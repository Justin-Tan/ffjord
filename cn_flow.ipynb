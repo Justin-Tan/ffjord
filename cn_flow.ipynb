{
 "cells": [
  {
   "cell_type": "markdown",
   "metadata": {},
   "source": [
    "## To be used on custom HEP dataset"
   ]
  },
  {
   "cell_type": "code",
   "execution_count": 1,
   "metadata": {},
   "outputs": [],
   "source": [
    "import numpy as np\n",
    "import pandas as pd\n",
    "import matplotlib.pyplot as plt\n",
    "import seaborn as sns\n",
    "import os, glob, time, datetime\n",
    "import logging, pickle\n",
    "\n",
    "from scipy import stats\n",
    "from pprint import pprint\n",
    "from importlib import reload\n",
    "from collections import defaultdict\n",
    "from tqdm import tqdm, trange, tqdm_notebook\n",
    "from sklearn.metrics import roc_curve, roc_auc_score\n",
    "\n",
    "\n",
    "import torch\n",
    "import torch.nn as nn\n",
    "import torch.nn.functional as F\n",
    "import torchvision\n",
    "import torchvision.transforms as transforms\n",
    "\n",
    "from models import losses, network, vae\n",
    "from utils import helpers, datasets, math, distributions\n",
    "\n",
    "import sklearn.datasets"
   ]
  },
  {
   "cell_type": "code",
   "execution_count": 2,
   "metadata": {},
   "outputs": [],
   "source": [
    "from matplotlib import rc\n",
    "rc('text', usetex=False) \n",
    "\n",
    "plt.style.use('seaborn-talk')"
   ]
  },
  {
   "cell_type": "code",
   "execution_count": 3,
   "metadata": {},
   "outputs": [],
   "source": [
    "class args(object):\n",
    "    silent = True\n",
    "    n_epochs = 42\n",
    "    batch_size = 4096\n",
    "    latent_dim = 10\n",
    "    learning_rate = 8e-4\n",
    "    multigpu = True\n",
    "    LOSSES = ['VAE', 'beta_VAE', 'annealed_VAE', 'factor_VAE', 'beta_TCVAE', 'beta_TCVAE_sensitive']\n",
    "    DATASETS = ['mnist', 'dsprites', 'dsprites_scream', 'custom']\n",
    "    save_interval = 32\n",
    "\n",
    "    \n",
    "    loss_type = 'beta_TCVAE'  # 'factor_VAE'\n",
    "    dataset = 'custom'\n",
    "    sampling_bias = False\n",
    "    shuffle = True\n",
    "    distribution = 'bernoulli'\n",
    "    identifier = loss_type\n",
    "    \n",
    "    \n",
    "    # Annealed VAE params\n",
    "    beta = 4.0\n",
    "    C_init = 0\n",
    "    C_fin = 5\n",
    "    gamma = 30.\n",
    "    \n",
    "    # Factor VAE params\n",
    "    n_layers_D = 5\n",
    "    n_units_D = 512\n",
    "    lr_D = 5e-5\n",
    "    gamma_fvae = 4.\n",
    "    \n",
    "    # BTC VAE params\n",
    "    alpha_btcvae = 1.\n",
    "    beta_btcvae = 12.\n",
    "    gamma_btcvae = 1.\n",
    "    supervision_lagrange_m = 64\n",
    "    \n",
    "    # Sensitive isolation\n",
    "    supervision = True\n",
    "    sensitive_latent_idx = [1]\n",
    "    \n",
    "    # Normalizing flow params\n",
    "    use_flow = False\n",
    "    flow_steps = 4\n",
    "    \n",
    "    # Misc.\n",
    "    weight_decay = 1.0\n",
    "    prior = 'normal'\n",
    "    x_dist = 'normal'\n",
    "    latent_spec = {'continuous': 10}\n",
    "    mlp = False\n",
    "    custom = True\n",
    "    hidden_dim = 512\n",
    "    \n",
    "class directories(object):\n",
    "    checkpoints = 'checkpoints'\n",
    "    results = 'results'\n",
    "\n",
    "if args.loss_type == 'factor_VAE':\n",
    "    # Double batch size\n",
    "    args.batch_size *= 2\n",
    "    args.n_epochs *= 2\n",
    "    \n",
    "logger = helpers.logger_setup()\n",
    "\n",
    "if args.supervision is True:\n",
    "    args.identifier += '_supervised'\n",
    "    \n",
    "if args.sampling_bias is True:\n",
    "    args.identifier += '_biased'\n",
    "    args.shuffle = False\n",
    "    \n",
    "if args.use_flow is True:\n",
    "    args.identifier += '_norm_flow'\n",
    "    \n",
    "args.name = '{}_{}_{}'.format(args.dataset, args.loss_type, args.identifier)"
   ]
  },
  {
   "cell_type": "code",
   "execution_count": 4,
   "metadata": {},
   "outputs": [
    {
     "name": "stdout",
     "output_type": "stream",
     "text": [
      "Data shape: (1522904, 36)\n",
      "Features ['BB_gamma_hel', 'B_CosTBTO', 'B_CosTBz', 'B_R2', 'B_ThrustB', 'B_ThrustO', 'B_cms_cosTheta', 'B_cms_daughterSumOf_pt', 'B_gamma_cmsEnergyErr', 'B_gamma_cms_E', 'B_gamma_cms_clusterAbsZernikeMoment40', 'B_gamma_cms_clusterAbsZernikeMoment51', 'B_gamma_cms_clusterE1E9', 'B_gamma_cms_clusterE9E21', 'B_gamma_cms_clusterErrorE', 'B_gamma_cms_clusterHighestE', 'B_gamma_cms_clusterLAT', 'B_gamma_cms_clusterPhi', 'B_gamma_cms_clusterTheta', 'B_gamma_cms_clusterUncorrE', 'B_gamma_cms_cosTheta', 'B_gamma_cms_eRecoil', 'B_gamma_cms_m2Recoil', 'B_gamma_cms_pRecoil', 'B_gamma_cms_phi', 'B_gamma_cms_pt', 'B_useCMSFrame_bodaughterHighest_boE', 'B_useCMSFrame_bodaughterHighest_bop', 'B_useCMSFrame_bodaughterHighest_bopt', 'B_useCMSFrame_bodaughterHighest_bopx', 'B_useCMSFrame_bodaughterHighest_bopy', 'B_useCMSFrame_bodaughterHighest_bopz', 'B_useCMSFrame_bodaughterSumOf_bopt', 'B_useCMSFrame_bodaughterSumOf_bopx', 'B_useCMSFrame_bodaughterSumOf_bopy', 'B_useCMSFrame_bodaughterSumOf_bopz']\n",
      "Data shape: (1713266, 36)\n",
      "Features ['BB_gamma_hel', 'B_CosTBTO', 'B_CosTBz', 'B_R2', 'B_ThrustB', 'B_ThrustO', 'B_cms_cosTheta', 'B_cms_daughterSumOf_pt', 'B_gamma_cmsEnergyErr', 'B_gamma_cms_E', 'B_gamma_cms_clusterAbsZernikeMoment40', 'B_gamma_cms_clusterAbsZernikeMoment51', 'B_gamma_cms_clusterE1E9', 'B_gamma_cms_clusterE9E21', 'B_gamma_cms_clusterErrorE', 'B_gamma_cms_clusterHighestE', 'B_gamma_cms_clusterLAT', 'B_gamma_cms_clusterPhi', 'B_gamma_cms_clusterTheta', 'B_gamma_cms_clusterUncorrE', 'B_gamma_cms_cosTheta', 'B_gamma_cms_eRecoil', 'B_gamma_cms_m2Recoil', 'B_gamma_cms_pRecoil', 'B_gamma_cms_phi', 'B_gamma_cms_pt', 'B_useCMSFrame_bodaughterHighest_boE', 'B_useCMSFrame_bodaughterHighest_bop', 'B_useCMSFrame_bodaughterHighest_bopt', 'B_useCMSFrame_bodaughterHighest_bopx', 'B_useCMSFrame_bodaughterHighest_bopy', 'B_useCMSFrame_bodaughterHighest_bopz', 'B_useCMSFrame_bodaughterSumOf_bopt', 'B_useCMSFrame_bodaughterSumOf_bopx', 'B_useCMSFrame_bodaughterSumOf_bopy', 'B_useCMSFrame_bodaughterSumOf_bopz']\n",
      "Data shape: (3255206, 36)\n",
      "Features ['BB_gamma_hel', 'B_CosTBTO', 'B_CosTBz', 'B_R2', 'B_ThrustB', 'B_ThrustO', 'B_cms_cosTheta', 'B_cms_daughterSumOf_pt', 'B_gamma_cmsEnergyErr', 'B_gamma_cms_E', 'B_gamma_cms_clusterAbsZernikeMoment40', 'B_gamma_cms_clusterAbsZernikeMoment51', 'B_gamma_cms_clusterE1E9', 'B_gamma_cms_clusterE9E21', 'B_gamma_cms_clusterErrorE', 'B_gamma_cms_clusterHighestE', 'B_gamma_cms_clusterLAT', 'B_gamma_cms_clusterPhi', 'B_gamma_cms_clusterTheta', 'B_gamma_cms_clusterUncorrE', 'B_gamma_cms_cosTheta', 'B_gamma_cms_eRecoil', 'B_gamma_cms_m2Recoil', 'B_gamma_cms_pRecoil', 'B_gamma_cms_phi', 'B_gamma_cms_pt', 'B_useCMSFrame_bodaughterHighest_boE', 'B_useCMSFrame_bodaughterHighest_bop', 'B_useCMSFrame_bodaughterHighest_bopt', 'B_useCMSFrame_bodaughterHighest_bopx', 'B_useCMSFrame_bodaughterHighest_bopy', 'B_useCMSFrame_bodaughterHighest_bopz', 'B_useCMSFrame_bodaughterSumOf_bopt', 'B_useCMSFrame_bodaughterSumOf_bopx', 'B_useCMSFrame_bodaughterSumOf_bopy', 'B_useCMSFrame_bodaughterSumOf_bopz']\n"
     ]
    }
   ],
   "source": [
    "assert args.loss_type in args.LOSSES, 'Unrecognized loss type!'\n",
    "assert args.dataset in args.DATASETS, 'Unrecognized dataset!'\n",
    "test_loader = datasets.get_dataloaders(args.dataset,\n",
    "                               batch_size=args.batch_size,\n",
    "                               logger=logger,\n",
    "                               train=False,\n",
    "                               sampling_bias=args.sampling_bias,\n",
    "                               shuffle=args.shuffle)\n",
    "\n",
    "all_loader = datasets.get_dataloaders(args.dataset,\n",
    "                               batch_size=args.batch_size,\n",
    "                               logger=logger,\n",
    "                               metrics=True,\n",
    "                               evaluate=True,\n",
    "                               train=False,\n",
    "                               sampling_bias=args.sampling_bias,\n",
    "                               shuffle=args.shuffle)\n",
    "\n",
    "\n",
    "if args.supervision is False:\n",
    "    train_loader = all_loader\n",
    "else:\n",
    "    train_loader = datasets.get_dataloaders(args.dataset,\n",
    "                                   batch_size=args.batch_size,\n",
    "                                   logger=logger,\n",
    "                                   train=True,\n",
    "                                   sampling_bias=args.sampling_bias,\n",
    "                                   shuffle=args.shuffle)\n",
    "\n",
    "\n",
    "\n",
    "args.n_data = len(train_loader.dataset)\n",
    "\n",
    "try:\n",
    "    args.input_dim = datasets.get_img_size(args.dataset)\n",
    "except AttributeError:\n",
    "    pass"
   ]
  },
  {
   "cell_type": "code",
   "execution_count": 5,
   "metadata": {},
   "outputs": [
    {
     "name": "stderr",
     "output_type": "stream",
     "text": [
      "04:28:24 INFO - <module>: Training: 3255206 | Testing: 1522904\n"
     ]
    }
   ],
   "source": [
    "dataiter = iter(all_loader)\n",
    "features, gen_factors = dataiter.next()\n",
    "features = features[:8]\n",
    "gen_factors = gen_factors[:8]\n",
    "\n",
    "logger.info('Training: {} | Testing: {}'.format(len(train_loader.dataset), len(test_loader.dataset)))\n",
    "\n",
    "if hasattr(args, 'input_dim') is False:\n",
    "    args.input_dim = features.shape[-1]"
   ]
  },
  {
   "cell_type": "code",
   "execution_count": 6,
   "metadata": {},
   "outputs": [],
   "source": [
    "class MaskedLinear(nn.Linear):\n",
    "    \"\"\" same as Linear except has a configurable mask on the weights \"\"\"\n",
    "    \n",
    "    \n",
    "    def __init__(self, in_features, out_features, bias=True):\n",
    "        super().__init__(in_features, out_features, bias)        \n",
    "        self.register_buffer('mask', torch.ones(out_features, in_features))\n",
    "        \n",
    "    def set_mask(self, mask):\n",
    "        self.mask.data.copy_(torch.from_numpy(mask.astype(np.uint8).T))\n",
    "        \n",
    "    def forward(self, input):\n",
    "        return F.linear(input, self.mask * self.weight, self.bias)\n",
    "    \n",
    "\n",
    "class MADE(nn.Module):\n",
    "    def __init__(self, nin, hidden_sizes, nout, num_masks=1, natural_ordering=False):\n",
    "        \"\"\"\n",
    "        nin: integer; number of inputs\n",
    "        hidden sizes: a list of integers; number of units in hidden layers\n",
    "        nout: integer; number of outputs, which usually collectively parameterize some kind of 1D distribution\n",
    "              note: if nout is e.g. 2x larger than nin (perhaps the mean and std), then the first nin\n",
    "              will be all the means and the second nin will be stds. i.e. output dimensions depend on the\n",
    "              same input dimensions in \"chunks\" and should be carefully decoded downstream appropriately.\n",
    "              the output of running the tests for this file makes this a bit more clear with examples.\n",
    "        num_masks: can be used to train ensemble over orderings/connections\n",
    "        natural_ordering: force natural ordering of dimensions, don't use random permutations\n",
    "        \"\"\"\n",
    "        \n",
    "        super().__init__()\n",
    "        self.nin = nin\n",
    "        self.nout = nout\n",
    "        self.hidden_sizes = hidden_sizes\n",
    "        assert self.nout % self.nin == 0, \"nout must be integer multiple of nin\"\n",
    "        \n",
    "        # define a simple MLP neural net\n",
    "        self.net = []\n",
    "        hs = [nin] + hidden_sizes + [nout]\n",
    "        for h0,h1 in zip(hs, hs[1:]):\n",
    "            self.net.extend([\n",
    "                    MaskedLinear(h0, h1),\n",
    "                    nn.ReLU(),\n",
    "                ])\n",
    "        self.net.pop() # pop the last ReLU for the output layer\n",
    "        self.net = nn.Sequential(*self.net)\n",
    "        \n",
    "        # seeds for orders/connectivities of the model ensemble\n",
    "        self.natural_ordering = natural_ordering\n",
    "        self.num_masks = num_masks\n",
    "        self.seed = 0 # for cycling through num_masks orderings\n",
    "        \n",
    "        self.m = {}\n",
    "        self.update_masks() # builds the initial self.m connectivity\n",
    "        # note, we could also precompute the masks and cache them, but this\n",
    "        # could get memory expensive for large number of masks.\n",
    "        \n",
    "    def update_masks(self):\n",
    "        if self.m and self.num_masks == 1: return # only a single seed, skip for efficiency\n",
    "        L = len(self.hidden_sizes)\n",
    "        \n",
    "        # fetch the next seed and construct a random stream\n",
    "        rng = np.random.RandomState(self.seed)\n",
    "        self.seed = (self.seed + 1) % self.num_masks\n",
    "        \n",
    "        # sample the order of the inputs and the connectivity of all neurons\n",
    "        self.m[-1] = np.arange(self.nin) if self.natural_ordering else rng.permutation(self.nin)\n",
    "        for l in range(L):\n",
    "            self.m[l] = rng.randint(self.m[l-1].min(), self.nin-1, size=self.hidden_sizes[l])\n",
    "        \n",
    "        # construct the mask matrices\n",
    "        masks = [self.m[l-1][:,None] <= self.m[l][None,:] for l in range(L)]\n",
    "        masks.append(self.m[L-1][:,None] < self.m[-1][None,:])\n",
    "        \n",
    "        # handle the case where nout = nin * k, for integer k > 1\n",
    "        if self.nout > self.nin:\n",
    "            k = int(self.nout / self.nin)\n",
    "            # replicate the mask across the other outputs\n",
    "            masks[-1] = np.concatenate([masks[-1]]*k, axis=1)\n",
    "        \n",
    "        # set the masks in all MaskedLinear layers\n",
    "        layers = [l for l in self.net.modules() if isinstance(l, MaskedLinear)]\n",
    "        for l,m in zip(layers, masks):\n",
    "            l.set_mask(m)\n",
    "    \n",
    "    def forward(self, x):\n",
    "        return self.net(x)"
   ]
  },
  {
   "cell_type": "code",
   "execution_count": 7,
   "metadata": {},
   "outputs": [],
   "source": [
    "class ARMLP(nn.Module):\n",
    "    \"\"\" a 4-layer auto-regressive MLP, wrapper around MADE net \"\"\"\n",
    "\n",
    "    def __init__(self, input_dim, output_dim, hidden_dim):\n",
    "        super().__init__()\n",
    "        self.net = MADE(input_dim, [hidden_dim, hidden_dim, hidden_dim], output_dim, num_masks=1, natural_ordering=True)\n",
    "        \n",
    "    def forward(self, x):\n",
    "        return self.net(x)"
   ]
  },
  {
   "cell_type": "code",
   "execution_count": 8,
   "metadata": {},
   "outputs": [],
   "source": [
    "class MAF(nn.Module):\n",
    "    \"\"\" Masked Autoregressive Flow that uses a MADE-style network for fast forward \"\"\"\n",
    "    \n",
    "    def __init__(self, input_dim, parity, hidden_dim=64, net_class=ARMLP):\n",
    "        super().__init__()\n",
    "        self.dim = input_dim\n",
    "        self.net = net_class(input_dim, input_dim*2, hidden_dim)\n",
    "        self.parity = parity\n",
    "\n",
    "    def forward(self, x):\n",
    "        # here we see that we are evaluating all of z in parallel, so density estimation will be fast\n",
    "        st = self.net(x)\n",
    "        s, t = st.split(self.dim, dim=1)\n",
    "        z = x * torch.exp(s) + t\n",
    "        # reverse order, so if we stack MAFs correct things happen\n",
    "        z = z.flip(dims=(1,)) if self.parity else z\n",
    "        log_det = torch.sum(s, dim=1)\n",
    "        return z, log_det\n",
    "    \n",
    "    def invert(self, z):\n",
    "        # we have to decode the x one at a time, sequentially\n",
    "        x = torch.zeros_like(z)\n",
    "        log_det = torch.zeros(z.size(0)).type_as(z.data)\n",
    "        z = z.flip(dims=(1,)) if self.parity else z\n",
    "        for i in range(self.dim):\n",
    "            st = self.net(x.clone()) # clone to avoid in-place op errors if using IAF\n",
    "            s, t = st.split(self.dim, dim=1)\n",
    "            x[:, i] = (z[:, i] - t[:, i]) * torch.exp(-s[:, i])\n",
    "            log_det += -s[:, i]\n",
    "        return x, log_det"
   ]
  },
  {
   "cell_type": "code",
   "execution_count": 9,
   "metadata": {},
   "outputs": [],
   "source": [
    "class NVP_net(nn.Module):\n",
    "    \"\"\" Network for use for transforms in real-NVP \"\"\"\n",
    "\n",
    "    def __init__(self, input_dim, output_dim, hidden_dim=128, activation='leaky_relu', scale=False):\n",
    "        super(NVP_net, self).__init__()\n",
    "\n",
    "        self.input_dim = input_dim\n",
    "        self.scale = scale\n",
    "        self.fc1 = nn.Linear(input_dim, hidden_dim)\n",
    "        self.fc2 = nn.Linear(hidden_dim, hidden_dim)\n",
    "        self.fc3 = nn.Linear(hidden_dim, hidden_dim)\n",
    "        self.out = nn.Linear(hidden_dim, output_dim)\n",
    "        self.scale_act = nn.Tanh()\n",
    "        self.tanh_scale = nn.Parameter(torch.ones(1), requires_grad=True)\n",
    "\n",
    "        # self.act = nn.LeakyReLU(0.2, inplace=True)  # nn.ReLU(inplace=True)\n",
    "        self.act = getattr(F, activation)\n",
    "\n",
    "    def forward(self, x):\n",
    "\n",
    "        h = x.view(-1, self.input_dim)\n",
    "        h = self.act(self.fc1(h))\n",
    "        h = self.act(self.fc2(h))\n",
    "\n",
    "        h = self.act(self.fc3(h))\n",
    "\n",
    "        out = self.out(h)\n",
    "        \n",
    "        if self.scale is True:\n",
    "            out = self.tanh_scale * self.scale_act(out)\n",
    "        \n",
    "        return out"
   ]
  },
  {
   "cell_type": "code",
   "execution_count": 10,
   "metadata": {},
   "outputs": [],
   "source": [
    "class BatchNormFlow(nn.Module):\n",
    "    \"\"\" Implements forward and inverse batch\n",
    "        norm passes, as well as log determinant of\n",
    "        Jacobian of forward and inverse passes \"\"\"\n",
    "    \n",
    "    def __init__(self, input_dim, momentum=0.05, eps=1e-5):\n",
    "        super(BatchNormFlow, self).__init__()\n",
    "        \n",
    "        self.log_gamma = nn.Parameter(torch.zeros(input_dim))\n",
    "        self.beta = nn.Parameter(torch.zeros(input_dim))\n",
    "        self.momentum = momentum\n",
    "        self.eps = eps\n",
    "\n",
    "        self.register_buffer('running_mean', torch.zeros(input_dim))\n",
    "        self.register_buffer('running_var', torch.ones(input_dim))\n",
    "        \n",
    "        \n",
    "    def forward(self, u):\n",
    "        \"\"\"\n",
    "        Use recorded running mean/var to invert BN applied during\n",
    "        inverse pass.\n",
    "        \"\"\"\n",
    "        mu, var = self.running_mean, self.running_var\n",
    "        \n",
    "        x = (u - self.beta) * torch.exp(-self.log_gamma) * torch.sqrt(var + self.eps) + mu\n",
    "        log_det_jacobian_inv = -torch.sum(self.log_gamma - 0.5 * torch.log(var + self.eps))\n",
    "\n",
    "        return x, log_det_jacobian_inv\n",
    "   \n",
    "        \n",
    "    def invert(self, x):\n",
    "        \"\"\"\n",
    "        Apply BN using minibatch statistics, update running mean/var.\n",
    "        \"\"\"\n",
    "        batch_mu = torch.mean(x, dim=0)\n",
    "        batch_var = torch.var(x, dim=0)\n",
    "        \n",
    "        self.running_mean.mul_(self.momentum)\n",
    "        self.running_var.mul_(self.momentum)\n",
    "\n",
    "        self.running_mean.add_(batch_mu.data * (1 - self.momentum))\n",
    "        self.running_var.add_(batch_var.data * (1 - self.momentum))\n",
    "        \n",
    "        x = torch.exp(self.log_gamma) * (x - batch_mu) * 1. / torch.sqrt(batch_var + self.eps) + self.beta\n",
    "        log_det_jacobian = torch.sum(self.log_gamma -0.5 * torch.log(batch_var + self.eps))\n",
    "        \n",
    "        return x, log_det_jacobian"
   ]
  },
  {
   "cell_type": "code",
   "execution_count": 11,
   "metadata": {},
   "outputs": [],
   "source": [
    "class InvertibleAffineFlow(nn.Module):\n",
    "    \"\"\" \n",
    "    Implements real-NVP affine autoregressive flow [1] as \n",
    "    location-scale transform. \n",
    "\n",
    "    Parition input z = [z1 | z2], then applies autoregressive\n",
    "    transformation z' = f(z), wehre f:\n",
    "    z1' = z1\n",
    "    z2' = exp(s(z1)) * z2 + t(z1)\n",
    "\n",
    "    [1] Density estimation using Real-NVP, Dinh et. al. 2016\n",
    "        arXiv:1605.08803\n",
    "    \"\"\"\n",
    "\n",
    "    def __init__(self, input_dim, parity=False, hidden_dim=256):\n",
    "        super(InvertibleAffineFlow, self).__init__()\n",
    "\n",
    "        self.input_dim = input_dim\n",
    "        self.parity = parity\n",
    "        self.hidden_dim = hidden_dim\n",
    "\n",
    "        self.net = NVP_net\n",
    "\n",
    "        self.s_psi = self.net(input_dim=self.input_dim//2, output_dim=self.input_dim//2, hidden_dim=self.hidden_dim, scale=True)\n",
    "        self.t_psi = self.net(input_dim=self.input_dim//2, output_dim=self.input_dim//2, hidden_dim=self.hidden_dim)\n",
    "\n",
    "        \n",
    "    def forward(self, x):\n",
    "        x0, x1 = x[:,::2], x[:,1::2]\n",
    "        \n",
    "        if self.parity is True:  # Exchange partitions on successive transformations\n",
    "            x0, x1 = x1, x0\n",
    "\n",
    "        s_x0, t_x0 = self.s_psi(x0), self.t_psi(x0)\n",
    "        z0 = x0  # Identity\n",
    "        z1 = torch.exp(s_x0) * x1 + t_x0  # location-scale transform\n",
    "\n",
    "        if self.parity is True:\n",
    "            z0, z1 = z1, z0\n",
    "\n",
    "        z = torch.cat([z0, z1], dim=1)\n",
    "        log_det_jacobian = torch.sum(s_x0, dim=1)\n",
    "        \n",
    "        return z, log_det_jacobian\n",
    "\n",
    "\n",
    "    def invert(self, z):\n",
    "        z0, z1 = z[:,::2], z[:,1::2]\n",
    "        if self.parity is True:\n",
    "            z0, z1 = z1, z0\n",
    "\n",
    "        s_z0, t_z0 = self.s_psi(z0), self.t_psi(z0)\n",
    "        x0 = z0  # Identity\n",
    "        x1 = (z1 - t_z0) * torch.exp(-s_z0)  # Inverse location-scale transform\n",
    "\n",
    "        if self.parity is True:\n",
    "            x0, x1 = x1, x0\n",
    "\n",
    "        x = torch.cat([x0, x1], dim=1)\n",
    "\n",
    "        # |det J_{T^{-1}}(x)| = |det(J_T(u))|^{-1}\n",
    "        log_det_jacobian = -torch.sum(s_z0, dim=1)\n",
    "\n",
    "        return x, log_det_jacobian"
   ]
  },
  {
   "cell_type": "code",
   "execution_count": null,
   "metadata": {},
   "outputs": [],
   "source": [
    "class FlowModel(nn.Module):\n",
    "    \"\"\" Subclass of VAE - implements invertible normalizing flows in the decoder.\n",
    "        Identical encoder logic to standard VAE. Allows density estimation of \n",
    "        data x = T(u) by computing p(T^{-1}(x)) + log |det J_{T^{-1}}(x)|}. \n",
    "        Composes arbitary flows. \"\"\"\n",
    "\n",
    "    def __init__(self, input_dim, hidden_dim, base_dist, n_flows=2, device='cpu',\n",
    "                 flow=InvertibleAffineFlow):\n",
    "        super(FlowModel, self).__init__()\n",
    "        \n",
    "        self.n_flows = n_flows\n",
    "        self.input_dim = input_dim\n",
    "        self.hidden_dim = hidden_dim\n",
    "        self.base_dist = base_dist\n",
    "        \n",
    "        BN_flow = BatchNormFlow\n",
    "        parity = lambda n: True if n%2==0 else False\n",
    "        \n",
    "        # Aggregate parameters from each transformation in the flow\n",
    "        for k in range(self.n_flows):\n",
    "            flow_k = flow(input_dim=self.input_dim, parity=parity(k), hidden_dim=self.hidden_dim)\n",
    "            BN_k = BN_flow(input_dim=self.input_dim)\n",
    "            self.add_module('flow_{}'.format(str(k)), flow_k)\n",
    "            self.add_module('BN_{}'.format(str(k)), BN_k)\n",
    "\n",
    "\n",
    "    def forward(self, x_0):\n",
    "        \"\"\" Sample from target density by passing x0 sampled from\n",
    "            base distribution through forward flow, x = F(x_0). \n",
    "            Used for sampling from trained model. \"\"\"\n",
    "\n",
    "        batch_size = x_0.shape[0]\n",
    "        x_flow = [x_0]  # Sequence of residual flows. \\hat{x} = x_flow[-1]\n",
    "\n",
    "        log_det_jacobian = torch.zeros(batch_size).to(device)\n",
    "\n",
    "        for k in range(self.n_flows):\n",
    "            \n",
    "            x_k = x_flow[-1]\n",
    "            flow_k = getattr(self, 'flow_{}'.format(str(k)))\n",
    "            x_k, log_det_jacobian_k = flow_k.forward(x_k)\n",
    "            \n",
    "            # Don't apply batch norm after final forward flow T_{K-1}\n",
    "            if k < self.n_flows - 1:\n",
    "                BN_k = getattr(self, 'BN_{}'.format(str(k)))\n",
    "                x_k, log_det_jacobian_BN_k = BN_k.forward(x_k)\n",
    "                log_det_jacobian += log_det_jacobian_BN_k\n",
    "                \n",
    "            x_flow.append(x_k)\n",
    "            \n",
    "            log_det_jacobian += log_det_jacobian_k\n",
    "\n",
    "\n",
    "        # Final approximation of target sample\n",
    "        x_K = x_flow[-1]\n",
    "\n",
    "        flow_output = {'log_det_jacobian': log_det_jacobian, 'x_flow': x_flow}\n",
    "\n",
    "        return flow_output \n",
    "\n",
    "\n",
    "    def backward(self, x):\n",
    "        \"\"\" Recover base x0 ~ N(\\mu, \\Sigma) by inverting \n",
    "            flow transformations. x0 = F^{-1}(x) Used for density \n",
    "            evaluation when computing likelihood term in VAE loss. \"\"\"\n",
    "\n",
    "        x_flow_inv = [x]\n",
    "        batch_size = x.shape[0]\n",
    "        log_det_jacobian_inv = torch.zeros(batch_size).to(device)\n",
    "\n",
    "        # Sequence T^{-1}(x) = u ==> x -> x_{K-1} -> ... -> x_1 -> u\n",
    "        for k in range(self.n_flows)[::-1]:  # reverse order\n",
    "            \n",
    "            x_k = x_flow_inv[-1]\n",
    "            \n",
    "            # Don't apply batch norm before transform T^{-1}_{K_1}\n",
    "            if k < self.n_flows - 1:\n",
    "                BN_k = getattr(self, 'BN_{}'.format(str(k)))\n",
    "                x_k, log_det_jacobian_BN_k = BN_k.invert(x_k)\n",
    "                log_det_jacobian_inv += log_det_jacobian_BN_k\n",
    "\n",
    "            flow_k = getattr(self, 'flow_{}'.format(str(k)))\n",
    "            x_k, log_det_jacobian_k = flow_k.invert(x_k)\n",
    "        \n",
    "            x_flow_inv.append(x_k)\n",
    "            \n",
    "            log_det_jacobian_inv += log_det_jacobian_k\n",
    "\n",
    "\n",
    "        inv_flow_output = {'log_det_jacobian_inv': log_det_jacobian_inv, 'x_flow_inv': x_flow_inv}\n",
    "\n",
    "        return inv_flow_output\n",
    "    \n",
    "    def log_density(self, x):\n",
    "        \n",
    "        inv_flow_output = self.backward(x)\n",
    "        \n",
    "        log_det_jacobian_inv = inv_flow_output['log_det_jacobian_inv']\n",
    "        x_flow_inv = inv_flow_output['x_flow_inv']\n",
    "        \n",
    "        x_0 = x_flow_inv[-1]\n",
    "        log_px_0 = self.base_dist.log_prob(x_0.cpu()).cuda()\n",
    "        log_px = log_px_0 + log_det_jacobian_inv\n",
    "        \n",
    "        return log_px\n",
    "    \n",
    "    def sample(self, n_samples):\n",
    "        \n",
    "        x_0 = self.base_dist.sample(torch.Size([n_samples])).cuda()\n",
    "        \n",
    "        flow_output = self.forward(x_0)\n",
    "        log_det_jacobian = flow_output['log_det_jacobian']\n",
    "        x_flow = flow_output['x_flow']\n",
    "        x_K = x_flow[-1]\n",
    "        \n",
    "        log_px_0 = self.base_dist.log_prob(x_0.cpu()).cuda()\n",
    "        \n",
    "        log_px_K = log_px_0 - log_det_jacobian\n",
    "        \n",
    "        return x_K, log_px_K"
   ]
  },
  {
   "cell_type": "code",
   "execution_count": 13,
   "metadata": {},
   "outputs": [],
   "source": [
    "input_dim = 36\n",
    "hidden_dim = 64\n",
    "\n",
    "prior = torch.distributions.MultivariateNormal(torch.zeros(input_dim), torch.eye(input_dim))\n",
    "\n",
    "device = helpers.get_device()\n",
    "\n",
    "myflow = FlowModel(input_dim=input_dim, hidden_dim=hidden_dim, base_dist=prior, n_flows=4, device=device)\n",
    "myflow.to(device)\n",
    "optimizer = torch.optim.Adam(myflow.parameters(), lr=1e-4 , weight_decay=1e-4)"
   ]
  },
  {
   "cell_type": "code",
   "execution_count": null,
   "metadata": {},
   "outputs": [],
   "source": []
  },
  {
   "cell_type": "code",
   "execution_count": 14,
   "metadata": {},
   "outputs": [],
   "source": [
    "z = torch.randn([128,36])"
   ]
  },
  {
   "cell_type": "code",
   "execution_count": 15,
   "metadata": {},
   "outputs": [],
   "source": [
    "def train(model, data_loader, optimizer, device, logger, n_epochs=4):\n",
    "    \n",
    "    print('Using device', device)\n",
    "    for epoch in trange(n_epochs, desc='Epoch'):\n",
    "        for idx, (x, gen_factors) in enumerate(tqdm_notebook(data_loader, desc='Train'), 0):\n",
    "            x = x.to(device)\n",
    "            log_px = model.log_density(x).mean()\n",
    "            \n",
    "            loss = -log_px\n",
    "            optimizer.zero_grad()\n",
    "            loss.backward()\n",
    "            optimizer.step()\n",
    "            \n",
    "            if idx % 100 == 0:\n",
    "                logger.info('Epoch: {} | Iteration: {}  | log_px = {:.3f}'.format(epoch, idx, log_px))"
   ]
  },
  {
   "cell_type": "code",
   "execution_count": 16,
   "metadata": {
    "scrolled": true
   },
   "outputs": [
    {
     "name": "stderr",
     "output_type": "stream",
     "text": [
      "Epoch:   0%|          | 0/10 [00:00<?, ?it/s]"
     ]
    },
    {
     "name": "stdout",
     "output_type": "stream",
     "text": [
      "Using device cuda\n"
     ]
    },
    {
     "data": {
      "application/vnd.jupyter.widget-view+json": {
       "model_id": "cc3e0d19c35f4b73b1c3a4a95f3207a5",
       "version_major": 2,
       "version_minor": 0
      },
      "text/plain": [
       "HBox(children=(IntProgress(value=0, description='Train', max=795), HTML(value='')))"
      ]
     },
     "metadata": {},
     "output_type": "display_data"
    },
    {
     "name": "stderr",
     "output_type": "stream",
     "text": [
      "14:26:26 INFO - train: Epoch: 0 | Iteration: 0  | log_px = -14.750\n",
      "14:27:38 INFO - train: Epoch: 0 | Iteration: 100  | log_px = -13.835\n",
      "14:28:47 INFO - train: Epoch: 0 | Iteration: 200  | log_px = -11.094\n",
      "14:29:57 INFO - train: Epoch: 0 | Iteration: 300  | log_px = -5.809\n",
      "14:31:06 INFO - train: Epoch: 0 | Iteration: 400  | log_px = -0.813\n",
      "14:32:16 INFO - train: Epoch: 0 | Iteration: 500  | log_px = 5.501\n",
      "14:33:26 INFO - train: Epoch: 0 | Iteration: 600  | log_px = 13.620\n",
      "14:34:37 INFO - train: Epoch: 0 | Iteration: 700  | log_px = 19.862\n",
      "Epoch:  10%|█         | 1/10 [09:19<1:23:58, 559.84s/it]"
     ]
    },
    {
     "name": "stdout",
     "output_type": "stream",
     "text": [
      "\n"
     ]
    },
    {
     "data": {
      "application/vnd.jupyter.widget-view+json": {
       "model_id": "3358093f0d654ddc96f7459e65bd159e",
       "version_major": 2,
       "version_minor": 0
      },
      "text/plain": [
       "HBox(children=(IntProgress(value=0, description='Train', max=795), HTML(value='')))"
      ]
     },
     "metadata": {},
     "output_type": "display_data"
    },
    {
     "name": "stderr",
     "output_type": "stream",
     "text": [
      "14:35:45 INFO - train: Epoch: 1 | Iteration: 0  | log_px = 23.981\n",
      "14:36:55 INFO - train: Epoch: 1 | Iteration: 100  | log_px = 27.514\n",
      "14:38:05 INFO - train: Epoch: 1 | Iteration: 200  | log_px = 29.466\n",
      "14:39:16 INFO - train: Epoch: 1 | Iteration: 300  | log_px = 32.594\n",
      "14:40:25 INFO - train: Epoch: 1 | Iteration: 400  | log_px = 34.206\n",
      "14:41:36 INFO - train: Epoch: 1 | Iteration: 500  | log_px = 34.940\n",
      "14:42:44 INFO - train: Epoch: 1 | Iteration: 600  | log_px = 35.660\n",
      "14:43:55 INFO - train: Epoch: 1 | Iteration: 700  | log_px = 37.554\n",
      "Epoch:  20%|██        | 2/10 [18:35<1:14:22, 557.80s/it]"
     ]
    },
    {
     "name": "stdout",
     "output_type": "stream",
     "text": [
      "\n"
     ]
    },
    {
     "data": {
      "application/vnd.jupyter.widget-view+json": {
       "model_id": "63496d68700444908d5d74c9981ad3eb",
       "version_major": 2,
       "version_minor": 0
      },
      "text/plain": [
       "HBox(children=(IntProgress(value=0, description='Train', max=795), HTML(value='')))"
      ]
     },
     "metadata": {},
     "output_type": "display_data"
    },
    {
     "name": "stderr",
     "output_type": "stream",
     "text": [
      "14:45:01 INFO - train: Epoch: 2 | Iteration: 0  | log_px = 38.406\n",
      "14:46:12 INFO - train: Epoch: 2 | Iteration: 100  | log_px = 39.556\n",
      "14:47:22 INFO - train: Epoch: 2 | Iteration: 200  | log_px = 40.466\n",
      "14:48:31 INFO - train: Epoch: 2 | Iteration: 300  | log_px = 41.488\n",
      "14:49:41 INFO - train: Epoch: 2 | Iteration: 400  | log_px = 42.172\n",
      "14:50:52 INFO - train: Epoch: 2 | Iteration: 500  | log_px = 41.953\n",
      "14:52:03 INFO - train: Epoch: 2 | Iteration: 600  | log_px = 42.385\n",
      "14:53:14 INFO - train: Epoch: 2 | Iteration: 700  | log_px = 43.747\n",
      "Epoch:  30%|███       | 3/10 [27:55<1:05:08, 558.39s/it]"
     ]
    },
    {
     "name": "stdout",
     "output_type": "stream",
     "text": [
      "\n"
     ]
    },
    {
     "data": {
      "application/vnd.jupyter.widget-view+json": {
       "model_id": "307a28b280844a3bab9ec230dc1b2432",
       "version_major": 2,
       "version_minor": 0
      },
      "text/plain": [
       "HBox(children=(IntProgress(value=0, description='Train', max=795), HTML(value='')))"
      ]
     },
     "metadata": {},
     "output_type": "display_data"
    },
    {
     "name": "stderr",
     "output_type": "stream",
     "text": [
      "14:54:20 INFO - train: Epoch: 3 | Iteration: 0  | log_px = 44.368\n",
      "14:55:32 INFO - train: Epoch: 3 | Iteration: 100  | log_px = 45.111\n",
      "14:56:42 INFO - train: Epoch: 3 | Iteration: 200  | log_px = 45.228\n",
      "14:57:53 INFO - train: Epoch: 3 | Iteration: 300  | log_px = 46.253\n",
      "14:59:03 INFO - train: Epoch: 3 | Iteration: 400  | log_px = 46.538\n",
      "15:00:14 INFO - train: Epoch: 3 | Iteration: 500  | log_px = 45.746\n",
      "15:01:21 INFO - train: Epoch: 3 | Iteration: 600  | log_px = 47.235\n",
      "15:02:30 INFO - train: Epoch: 3 | Iteration: 700  | log_px = 48.186\n",
      "Epoch:  40%|████      | 4/10 [37:11<55:47, 557.98s/it]  "
     ]
    },
    {
     "name": "stdout",
     "output_type": "stream",
     "text": [
      "\n"
     ]
    },
    {
     "data": {
      "application/vnd.jupyter.widget-view+json": {
       "model_id": "7349be47d7ab44ac9bc63ac95c947fbb",
       "version_major": 2,
       "version_minor": 0
      },
      "text/plain": [
       "HBox(children=(IntProgress(value=0, description='Train', max=795), HTML(value='')))"
      ]
     },
     "metadata": {},
     "output_type": "display_data"
    },
    {
     "name": "stderr",
     "output_type": "stream",
     "text": [
      "15:03:37 INFO - train: Epoch: 4 | Iteration: 0  | log_px = 47.992\n",
      "15:04:48 INFO - train: Epoch: 4 | Iteration: 100  | log_px = 48.127\n",
      "15:05:58 INFO - train: Epoch: 4 | Iteration: 200  | log_px = 48.575\n",
      "15:07:09 INFO - train: Epoch: 4 | Iteration: 300  | log_px = 48.527\n",
      "15:08:19 INFO - train: Epoch: 4 | Iteration: 400  | log_px = 49.508\n",
      "15:09:31 INFO - train: Epoch: 4 | Iteration: 500  | log_px = 49.110\n",
      "15:10:40 INFO - train: Epoch: 4 | Iteration: 600  | log_px = 50.072\n",
      "15:11:51 INFO - train: Epoch: 4 | Iteration: 700  | log_px = 50.772\n",
      "Epoch:  50%|█████     | 5/10 [46:31<46:31, 558.37s/it]"
     ]
    },
    {
     "name": "stdout",
     "output_type": "stream",
     "text": [
      "\n"
     ]
    },
    {
     "data": {
      "application/vnd.jupyter.widget-view+json": {
       "model_id": "4990f56722cf4e1dbf1f1d28d7f0545d",
       "version_major": 2,
       "version_minor": 0
      },
      "text/plain": [
       "HBox(children=(IntProgress(value=0, description='Train', max=795), HTML(value='')))"
      ]
     },
     "metadata": {},
     "output_type": "display_data"
    },
    {
     "name": "stderr",
     "output_type": "stream",
     "text": [
      "15:12:57 INFO - train: Epoch: 5 | Iteration: 0  | log_px = 50.501\n",
      "15:14:08 INFO - train: Epoch: 5 | Iteration: 100  | log_px = 50.462\n",
      "15:15:19 INFO - train: Epoch: 5 | Iteration: 200  | log_px = 51.115\n",
      "15:16:29 INFO - train: Epoch: 5 | Iteration: 300  | log_px = 49.759\n",
      "15:17:39 INFO - train: Epoch: 5 | Iteration: 400  | log_px = 52.229\n",
      "15:18:49 INFO - train: Epoch: 5 | Iteration: 500  | log_px = 51.745\n",
      "15:20:00 INFO - train: Epoch: 5 | Iteration: 600  | log_px = 52.137\n",
      "15:21:10 INFO - train: Epoch: 5 | Iteration: 700  | log_px = 51.606\n",
      "Epoch:  60%|██████    | 6/10 [55:52<37:14, 558.69s/it]"
     ]
    },
    {
     "name": "stdout",
     "output_type": "stream",
     "text": [
      "\n"
     ]
    },
    {
     "data": {
      "application/vnd.jupyter.widget-view+json": {
       "model_id": "e9f854b0c0a34dfc91e29e51a3c6cabd",
       "version_major": 2,
       "version_minor": 0
      },
      "text/plain": [
       "HBox(children=(IntProgress(value=0, description='Train', max=795), HTML(value='')))"
      ]
     },
     "metadata": {},
     "output_type": "display_data"
    },
    {
     "name": "stderr",
     "output_type": "stream",
     "text": [
      "15:22:17 INFO - train: Epoch: 6 | Iteration: 0  | log_px = 52.697\n",
      "15:23:27 INFO - train: Epoch: 6 | Iteration: 100  | log_px = 52.267\n",
      "15:24:37 INFO - train: Epoch: 6 | Iteration: 200  | log_px = 52.808\n",
      "15:25:56 INFO - train: Epoch: 6 | Iteration: 300  | log_px = 52.996\n",
      "15:27:36 INFO - train: Epoch: 6 | Iteration: 400  | log_px = 53.393\n",
      "15:29:16 INFO - train: Epoch: 6 | Iteration: 500  | log_px = 51.589\n",
      "15:30:54 INFO - train: Epoch: 6 | Iteration: 600  | log_px = 52.696\n",
      "15:32:34 INFO - train: Epoch: 6 | Iteration: 700  | log_px = 51.775\n",
      "Epoch:  70%|███████   | 7/10 [1:07:41<29:00, 580.24s/it]"
     ]
    },
    {
     "name": "stdout",
     "output_type": "stream",
     "text": [
      "\n"
     ]
    },
    {
     "data": {
      "application/vnd.jupyter.widget-view+json": {
       "model_id": "6334713ce6aa454d9999b46fc134bfd0",
       "version_major": 2,
       "version_minor": 0
      },
      "text/plain": [
       "HBox(children=(IntProgress(value=0, description='Train', max=795), HTML(value='')))"
      ]
     },
     "metadata": {},
     "output_type": "display_data"
    },
    {
     "name": "stderr",
     "output_type": "stream",
     "text": [
      "15:34:07 INFO - train: Epoch: 7 | Iteration: 0  | log_px = 51.292\n",
      "15:35:47 INFO - train: Epoch: 7 | Iteration: 100  | log_px = 52.816\n",
      "15:37:26 INFO - train: Epoch: 7 | Iteration: 200  | log_px = 54.678\n",
      "15:39:05 INFO - train: Epoch: 7 | Iteration: 300  | log_px = 53.926\n",
      "15:40:44 INFO - train: Epoch: 7 | Iteration: 400  | log_px = 54.330\n",
      "15:42:23 INFO - train: Epoch: 7 | Iteration: 500  | log_px = 54.701\n",
      "15:43:57 INFO - train: Epoch: 7 | Iteration: 600  | log_px = 53.442\n",
      "15:45:33 INFO - train: Epoch: 7 | Iteration: 700  | log_px = 55.573\n",
      "Epoch:  80%|████████  | 8/10 [1:20:38<20:09, 604.79s/it]"
     ]
    },
    {
     "name": "stdout",
     "output_type": "stream",
     "text": [
      "\n"
     ]
    },
    {
     "data": {
      "application/vnd.jupyter.widget-view+json": {
       "model_id": "229937864abf44bf9a5a4362cf34a0a2",
       "version_major": 2,
       "version_minor": 0
      },
      "text/plain": [
       "HBox(children=(IntProgress(value=0, description='Train', max=795), HTML(value='')))"
      ]
     },
     "metadata": {},
     "output_type": "display_data"
    },
    {
     "name": "stderr",
     "output_type": "stream",
     "text": [
      "15:47:04 INFO - train: Epoch: 8 | Iteration: 0  | log_px = 55.019\n",
      "15:48:42 INFO - train: Epoch: 8 | Iteration: 100  | log_px = 55.225\n",
      "15:50:21 INFO - train: Epoch: 8 | Iteration: 200  | log_px = 55.900\n",
      "15:51:59 INFO - train: Epoch: 8 | Iteration: 300  | log_px = 55.491\n",
      "15:53:36 INFO - train: Epoch: 8 | Iteration: 400  | log_px = 54.651\n",
      "15:55:18 INFO - train: Epoch: 8 | Iteration: 500  | log_px = 55.617\n",
      "15:56:58 INFO - train: Epoch: 8 | Iteration: 600  | log_px = 55.180\n",
      "15:58:34 INFO - train: Epoch: 8 | Iteration: 700  | log_px = 55.346\n",
      "Epoch:  90%|█████████ | 9/10 [1:33:40<10:24, 624.54s/it]"
     ]
    },
    {
     "name": "stdout",
     "output_type": "stream",
     "text": [
      "\n"
     ]
    },
    {
     "data": {
      "application/vnd.jupyter.widget-view+json": {
       "model_id": "5e7dc9fc9ed44e29a323814af8fc1d4e",
       "version_major": 2,
       "version_minor": 0
      },
      "text/plain": [
       "HBox(children=(IntProgress(value=0, description='Train', max=795), HTML(value='')))"
      ]
     },
     "metadata": {},
     "output_type": "display_data"
    },
    {
     "name": "stderr",
     "output_type": "stream",
     "text": [
      "16:00:06 INFO - train: Epoch: 9 | Iteration: 0  | log_px = 55.920\n",
      "16:01:46 INFO - train: Epoch: 9 | Iteration: 100  | log_px = 56.132\n",
      "16:03:21 INFO - train: Epoch: 9 | Iteration: 200  | log_px = 56.076\n",
      "16:04:58 INFO - train: Epoch: 9 | Iteration: 300  | log_px = 56.514\n",
      "16:06:37 INFO - train: Epoch: 9 | Iteration: 400  | log_px = 56.142\n",
      "16:08:12 INFO - train: Epoch: 9 | Iteration: 500  | log_px = 53.778\n",
      "16:09:47 INFO - train: Epoch: 9 | Iteration: 600  | log_px = 56.935\n",
      "16:11:25 INFO - train: Epoch: 9 | Iteration: 700  | log_px = 55.751\n",
      "Epoch: 100%|██████████| 10/10 [1:46:30<00:00, 639.08s/it]"
     ]
    },
    {
     "name": "stdout",
     "output_type": "stream",
     "text": [
      "\n"
     ]
    },
    {
     "name": "stderr",
     "output_type": "stream",
     "text": [
      "\n"
     ]
    }
   ],
   "source": [
    "train(myflow, train_loader, optimizer, device, logger, 10)"
   ]
  },
  {
   "cell_type": "code",
   "execution_count": 20,
   "metadata": {},
   "outputs": [],
   "source": [
    "n_samples = 10000\n",
    "\n",
    "dataiter = iter(train_loader)\n",
    "features, gen_factors = dataiter.next()\n",
    "features = features[:n_samples]\n",
    "labels = gen_factors[0, :n_samples]\n",
    "\n",
    "x_hat, log_px_hat = myflow.sample(n_samples)\n",
    "x_hat = x_hat.cpu().detach()\n",
    "log_px_hat = log_px_hat.cpu().detach()\n",
    "x_dim = features.shape[1]\n",
    "\n",
    "for dim in range(x_dim):\n",
    "    real_marginal = features[:, dim]\n",
    "    gen_marginal = x_hat[:, dim]"
   ]
  },
  {
   "cell_type": "code",
   "execution_count": 21,
   "metadata": {},
   "outputs": [],
   "source": [
    "def compare_histograms_overlay(data_gen, data_real, nbins=50, norm=True, name='plot'):\n",
    "    # Plot continuum suppression variable distributions for signal, background\n",
    "    sea_green = '#54ff9f'\n",
    "    steel_blue = '#4e6bbd'\n",
    "\n",
    "    sns.distplot(data_gen, color=steel_blue, hist=True, kde=False, norm_hist=norm, label='Generated', bins=nbins,\n",
    "         hist_kws=dict(edgecolor=\"0.85\", linewidth=0.5, alpha=0.65))\n",
    "\n",
    "    sns.distplot(data_real, color=sea_green, hist=True, kde=False, norm_hist=norm, label='Real', bins=nbins,\n",
    "         hist_kws=dict(edgecolor=\"0.85\", linewidth=0.5, alpha=0.8))\n",
    "        \n",
    "    plt.autoscale(enable=True, axis='x', tight=False)\n",
    "    \n",
    "    if norm:\n",
    "        plt.ylabel(r'Normalized events/bin')\n",
    "    else:\n",
    "        plt.ylabel(r'Events/bin')\n",
    "\n",
    "    plt.legend(loc=\"best\")\n",
    "    # plt.savefig('graphs/{}_{}.pdf'.format(name,variable), bbox_inches='tight',format='pdf', dpi=1000)\n",
    "    plt.show()\n",
    "    plt.gcf().clear()"
   ]
  },
  {
   "cell_type": "code",
   "execution_count": 22,
   "metadata": {},
   "outputs": [
    {
     "ename": "ValueError",
     "evalue": "max must be larger than min in range parameter.",
     "output_type": "error",
     "traceback": [
      "\u001b[0;31m---------------------------------------------------------------------------\u001b[0m",
      "\u001b[0;31mValueError\u001b[0m                                Traceback (most recent call last)",
      "\u001b[0;32m<ipython-input-22-2787d9756daa>\u001b[0m in \u001b[0;36m<module>\u001b[0;34m()\u001b[0m\n\u001b[1;32m      1\u001b[0m \u001b[0midx\u001b[0m \u001b[0;34m=\u001b[0m \u001b[0;36m15\u001b[0m\u001b[0;34m\u001b[0m\u001b[0;34m\u001b[0m\u001b[0m\n\u001b[0;32m----> 2\u001b[0;31m \u001b[0mcompare_histograms_overlay\u001b[0m\u001b[0;34m(\u001b[0m\u001b[0mx_hat\u001b[0m\u001b[0;34m[\u001b[0m\u001b[0;34m:\u001b[0m\u001b[0;34m,\u001b[0m\u001b[0midx\u001b[0m\u001b[0;34m]\u001b[0m\u001b[0;34m,\u001b[0m \u001b[0mfeatures\u001b[0m\u001b[0;34m[\u001b[0m\u001b[0;34m:\u001b[0m\u001b[0;34m,\u001b[0m\u001b[0midx\u001b[0m\u001b[0;34m]\u001b[0m\u001b[0;34m)\u001b[0m\u001b[0;34m\u001b[0m\u001b[0;34m\u001b[0m\u001b[0m\n\u001b[0m",
      "\u001b[0;32m<ipython-input-21-04a9f41a0da5>\u001b[0m in \u001b[0;36mcompare_histograms_overlay\u001b[0;34m(data_gen, data_real, nbins, norm, name)\u001b[0m\n\u001b[1;32m      6\u001b[0m \u001b[0;34m\u001b[0m\u001b[0m\n\u001b[1;32m      7\u001b[0m     sns.distplot(data_gen, color=steel_blue, hist=True, kde=False, norm_hist=norm, label='Generated',bins=nbins,\n\u001b[0;32m----> 8\u001b[0;31m          hist_kws=dict(edgecolor=\"0.85\", linewidth=0.5, alpha=0.65))\n\u001b[0m\u001b[1;32m      9\u001b[0m \u001b[0;34m\u001b[0m\u001b[0m\n\u001b[1;32m     10\u001b[0m     sns.distplot(data_real, color=sea_green, hist=True, kde=False, norm_hist=norm, label='Real', bins=nbins,\n",
      "\u001b[0;32m~/anaconda3/lib/python3.6/site-packages/seaborn/distributions.py\u001b[0m in \u001b[0;36mdistplot\u001b[0;34m(a, bins, hist, kde, rug, fit, hist_kws, kde_kws, rug_kws, fit_kws, color, vertical, norm_hist, axlabel, label, ax)\u001b[0m\n\u001b[1;32m    223\u001b[0m         \u001b[0mhist_color\u001b[0m \u001b[0;34m=\u001b[0m \u001b[0mhist_kws\u001b[0m\u001b[0;34m.\u001b[0m\u001b[0mpop\u001b[0m\u001b[0;34m(\u001b[0m\u001b[0;34m\"color\"\u001b[0m\u001b[0;34m,\u001b[0m \u001b[0mcolor\u001b[0m\u001b[0;34m)\u001b[0m\u001b[0;34m\u001b[0m\u001b[0;34m\u001b[0m\u001b[0m\n\u001b[1;32m    224\u001b[0m         ax.hist(a, bins, orientation=orientation,\n\u001b[0;32m--> 225\u001b[0;31m                 color=hist_color, **hist_kws)\n\u001b[0m\u001b[1;32m    226\u001b[0m         \u001b[0;32mif\u001b[0m \u001b[0mhist_color\u001b[0m \u001b[0;34m!=\u001b[0m \u001b[0mcolor\u001b[0m\u001b[0;34m:\u001b[0m\u001b[0;34m\u001b[0m\u001b[0;34m\u001b[0m\u001b[0m\n\u001b[1;32m    227\u001b[0m             \u001b[0mhist_kws\u001b[0m\u001b[0;34m[\u001b[0m\u001b[0;34m\"color\"\u001b[0m\u001b[0;34m]\u001b[0m \u001b[0;34m=\u001b[0m \u001b[0mhist_color\u001b[0m\u001b[0;34m\u001b[0m\u001b[0;34m\u001b[0m\u001b[0m\n",
      "\u001b[0;32m~/anaconda3/lib/python3.6/site-packages/matplotlib/__init__.py\u001b[0m in \u001b[0;36minner\u001b[0;34m(ax, *args, **kwargs)\u001b[0m\n\u001b[1;32m   1865\u001b[0m                         \u001b[0;34m\"the Matplotlib list!)\"\u001b[0m \u001b[0;34m%\u001b[0m \u001b[0;34m(\u001b[0m\u001b[0mlabel_namer\u001b[0m\u001b[0;34m,\u001b[0m \u001b[0mfunc\u001b[0m\u001b[0;34m.\u001b[0m\u001b[0m__name__\u001b[0m\u001b[0;34m)\u001b[0m\u001b[0;34m,\u001b[0m\u001b[0;34m\u001b[0m\u001b[0;34m\u001b[0m\u001b[0m\n\u001b[1;32m   1866\u001b[0m                         RuntimeWarning, stacklevel=2)\n\u001b[0;32m-> 1867\u001b[0;31m             \u001b[0;32mreturn\u001b[0m \u001b[0mfunc\u001b[0m\u001b[0;34m(\u001b[0m\u001b[0max\u001b[0m\u001b[0;34m,\u001b[0m \u001b[0;34m*\u001b[0m\u001b[0margs\u001b[0m\u001b[0;34m,\u001b[0m \u001b[0;34m**\u001b[0m\u001b[0mkwargs\u001b[0m\u001b[0;34m)\u001b[0m\u001b[0;34m\u001b[0m\u001b[0;34m\u001b[0m\u001b[0m\n\u001b[0m\u001b[1;32m   1868\u001b[0m \u001b[0;34m\u001b[0m\u001b[0m\n\u001b[1;32m   1869\u001b[0m         inner.__doc__ = _add_data_doc(inner.__doc__,\n",
      "\u001b[0;32m~/anaconda3/lib/python3.6/site-packages/matplotlib/axes/_axes.py\u001b[0m in \u001b[0;36mhist\u001b[0;34m(***failed resolving arguments***)\u001b[0m\n\u001b[1;32m   6637\u001b[0m             \u001b[0;31m# this will automatically overwrite bins,\u001b[0m\u001b[0;34m\u001b[0m\u001b[0;34m\u001b[0m\u001b[0;34m\u001b[0m\u001b[0m\n\u001b[1;32m   6638\u001b[0m             \u001b[0;31m# so that each histogram uses the same bins\u001b[0m\u001b[0;34m\u001b[0m\u001b[0;34m\u001b[0m\u001b[0;34m\u001b[0m\u001b[0m\n\u001b[0;32m-> 6639\u001b[0;31m             \u001b[0mm\u001b[0m\u001b[0;34m,\u001b[0m \u001b[0mbins\u001b[0m \u001b[0;34m=\u001b[0m \u001b[0mnp\u001b[0m\u001b[0;34m.\u001b[0m\u001b[0mhistogram\u001b[0m\u001b[0;34m(\u001b[0m\u001b[0mx\u001b[0m\u001b[0;34m[\u001b[0m\u001b[0mi\u001b[0m\u001b[0;34m]\u001b[0m\u001b[0;34m,\u001b[0m \u001b[0mbins\u001b[0m\u001b[0;34m,\u001b[0m \u001b[0mweights\u001b[0m\u001b[0;34m=\u001b[0m\u001b[0mw\u001b[0m\u001b[0;34m[\u001b[0m\u001b[0mi\u001b[0m\u001b[0;34m]\u001b[0m\u001b[0;34m,\u001b[0m \u001b[0;34m**\u001b[0m\u001b[0mhist_kwargs\u001b[0m\u001b[0;34m)\u001b[0m\u001b[0;34m\u001b[0m\u001b[0;34m\u001b[0m\u001b[0m\n\u001b[0m\u001b[1;32m   6640\u001b[0m             \u001b[0mm\u001b[0m \u001b[0;34m=\u001b[0m \u001b[0mm\u001b[0m\u001b[0;34m.\u001b[0m\u001b[0mastype\u001b[0m\u001b[0;34m(\u001b[0m\u001b[0mfloat\u001b[0m\u001b[0;34m)\u001b[0m  \u001b[0;31m# causes problems later if it's an int\u001b[0m\u001b[0;34m\u001b[0m\u001b[0;34m\u001b[0m\u001b[0m\n\u001b[1;32m   6641\u001b[0m             \u001b[0;32mif\u001b[0m \u001b[0mmlast\u001b[0m \u001b[0;32mis\u001b[0m \u001b[0;32mNone\u001b[0m\u001b[0;34m:\u001b[0m\u001b[0;34m\u001b[0m\u001b[0;34m\u001b[0m\u001b[0m\n",
      "\u001b[0;32m~/anaconda3/lib/python3.6/site-packages/numpy/lib/histograms.py\u001b[0m in \u001b[0;36mhistogram\u001b[0;34m(a, bins, range, normed, weights, density)\u001b[0m\n\u001b[1;32m    778\u001b[0m     \u001b[0ma\u001b[0m\u001b[0;34m,\u001b[0m \u001b[0mweights\u001b[0m \u001b[0;34m=\u001b[0m \u001b[0m_ravel_and_check_weights\u001b[0m\u001b[0;34m(\u001b[0m\u001b[0ma\u001b[0m\u001b[0;34m,\u001b[0m \u001b[0mweights\u001b[0m\u001b[0;34m)\u001b[0m\u001b[0;34m\u001b[0m\u001b[0;34m\u001b[0m\u001b[0m\n\u001b[1;32m    779\u001b[0m \u001b[0;34m\u001b[0m\u001b[0m\n\u001b[0;32m--> 780\u001b[0;31m     \u001b[0mbin_edges\u001b[0m\u001b[0;34m,\u001b[0m \u001b[0muniform_bins\u001b[0m \u001b[0;34m=\u001b[0m \u001b[0m_get_bin_edges\u001b[0m\u001b[0;34m(\u001b[0m\u001b[0ma\u001b[0m\u001b[0;34m,\u001b[0m \u001b[0mbins\u001b[0m\u001b[0;34m,\u001b[0m \u001b[0mrange\u001b[0m\u001b[0;34m,\u001b[0m \u001b[0mweights\u001b[0m\u001b[0;34m)\u001b[0m\u001b[0;34m\u001b[0m\u001b[0;34m\u001b[0m\u001b[0m\n\u001b[0m\u001b[1;32m    781\u001b[0m \u001b[0;34m\u001b[0m\u001b[0m\n\u001b[1;32m    782\u001b[0m     \u001b[0;31m# Histogram is an integer or a float array depending on the weights.\u001b[0m\u001b[0;34m\u001b[0m\u001b[0;34m\u001b[0m\u001b[0;34m\u001b[0m\u001b[0m\n",
      "\u001b[0;32m~/anaconda3/lib/python3.6/site-packages/numpy/lib/histograms.py\u001b[0m in \u001b[0;36m_get_bin_edges\u001b[0;34m(a, bins, range, weights)\u001b[0m\n\u001b[1;32m    415\u001b[0m             \u001b[0;32mraise\u001b[0m \u001b[0mValueError\u001b[0m\u001b[0;34m(\u001b[0m\u001b[0;34m'`bins` must be positive, when an integer'\u001b[0m\u001b[0;34m)\u001b[0m\u001b[0;34m\u001b[0m\u001b[0;34m\u001b[0m\u001b[0m\n\u001b[1;32m    416\u001b[0m \u001b[0;34m\u001b[0m\u001b[0m\n\u001b[0;32m--> 417\u001b[0;31m         \u001b[0mfirst_edge\u001b[0m\u001b[0;34m,\u001b[0m \u001b[0mlast_edge\u001b[0m \u001b[0;34m=\u001b[0m \u001b[0m_get_outer_edges\u001b[0m\u001b[0;34m(\u001b[0m\u001b[0ma\u001b[0m\u001b[0;34m,\u001b[0m \u001b[0mrange\u001b[0m\u001b[0;34m)\u001b[0m\u001b[0;34m\u001b[0m\u001b[0;34m\u001b[0m\u001b[0m\n\u001b[0m\u001b[1;32m    418\u001b[0m \u001b[0;34m\u001b[0m\u001b[0m\n\u001b[1;32m    419\u001b[0m     \u001b[0;32melif\u001b[0m \u001b[0mnp\u001b[0m\u001b[0;34m.\u001b[0m\u001b[0mndim\u001b[0m\u001b[0;34m(\u001b[0m\u001b[0mbins\u001b[0m\u001b[0;34m)\u001b[0m \u001b[0;34m==\u001b[0m \u001b[0;36m1\u001b[0m\u001b[0;34m:\u001b[0m\u001b[0;34m\u001b[0m\u001b[0;34m\u001b[0m\u001b[0m\n",
      "\u001b[0;32m~/anaconda3/lib/python3.6/site-packages/numpy/lib/histograms.py\u001b[0m in \u001b[0;36m_get_outer_edges\u001b[0;34m(a, range)\u001b[0m\n\u001b[1;32m    302\u001b[0m         \u001b[0;32mif\u001b[0m \u001b[0mfirst_edge\u001b[0m \u001b[0;34m>\u001b[0m \u001b[0mlast_edge\u001b[0m\u001b[0;34m:\u001b[0m\u001b[0;34m\u001b[0m\u001b[0;34m\u001b[0m\u001b[0m\n\u001b[1;32m    303\u001b[0m             raise ValueError(\n\u001b[0;32m--> 304\u001b[0;31m                 'max must be larger than min in range parameter.')\n\u001b[0m\u001b[1;32m    305\u001b[0m         \u001b[0;32mif\u001b[0m \u001b[0;32mnot\u001b[0m \u001b[0;34m(\u001b[0m\u001b[0mnp\u001b[0m\u001b[0;34m.\u001b[0m\u001b[0misfinite\u001b[0m\u001b[0;34m(\u001b[0m\u001b[0mfirst_edge\u001b[0m\u001b[0;34m)\u001b[0m \u001b[0;32mand\u001b[0m \u001b[0mnp\u001b[0m\u001b[0;34m.\u001b[0m\u001b[0misfinite\u001b[0m\u001b[0;34m(\u001b[0m\u001b[0mlast_edge\u001b[0m\u001b[0;34m)\u001b[0m\u001b[0;34m)\u001b[0m\u001b[0;34m:\u001b[0m\u001b[0;34m\u001b[0m\u001b[0;34m\u001b[0m\u001b[0m\n\u001b[1;32m    306\u001b[0m             raise ValueError(\n",
      "\u001b[0;31mValueError\u001b[0m: max must be larger than min in range parameter."
     ]
    },
    {
     "data": {
      "image/png": "[encoded data removed]",
      "text/plain": [
       "<Figure size 748.8x514.8 with 1 Axes>"
      ]
     },
     "metadata": {
      "needs_background": "light"
     },
     "output_type": "display_data"
    }
   ],
   "source": [
    "idx = 15\n",
    "compare_histograms_overlay(x_hat[:,idx], features[:,idx])"
   ]
  },
  {
   "cell_type": "markdown",
   "metadata": {},
   "source": [
    "# FFJORD"
   ]
  },
  {
   "cell_type": "code",
   "execution_count": 16,
   "metadata": {},
   "outputs": [],
   "source": [
    "input_dim = 2\n",
    "hidden_dim = 32\n",
    "\n",
    "prior = torch.distributions.MultivariateNormal(torch.zeros(input_dim), torch.eye(input_dim))\n",
    "\n",
    "device = helpers.get_device()\n",
    "\n",
    "myflow = FlowModel(input_dim=input_dim, hidden_dim=hidden_dim, base_dist=prior, n_flows=4, device=device)\n",
    "myflow.to(device)\n",
    "optimizer = torch.optim.Adam(myflow.parameters(), lr=1e-4 , weight_decay=1e-4)"
   ]
  },
  {
   "cell_type": "code",
   "execution_count": null,
   "metadata": {},
   "outputs": [],
   "source": [
    "regularization_fns, regularization_coeffs = create_regularization_fns(args)\n",
    "model = build_model_tabular(args, 2, regularization_fns).to(device)\n",
    "if args.spectral_norm: add_spectral_norm(model)\n",
    "set_cnf_options(args, model)\n",
    "\n",
    "logger.info(model)\n",
    "logger.info(\"Number of trainable parameters: {}\".format(count_parameters(model)))"
   ]
  },
  {
   "cell_type": "code",
   "execution_count": null,
   "metadata": {},
   "outputs": [],
   "source": [
    "def compute_loss(args, model, batch_size=None):\n",
    "    if batch_size is None: batch_size = args.batch_size\n",
    "\n",
    "    # load data\n",
    "    # x = toy_data.inf_train_gen(args.data, batch_size=batch_size)\n",
    "    x = sklearn.datasets.make_moons(n_samples=256, noise=.05)[0].astype(np.float32)\n",
    "    x = torch.from_numpy(x).type(torch.float32).to(device)\n",
    "    zero = torch.zeros(x.shape[0], 1).to(x)\n",
    "\n",
    "    # transform to z\n",
    "    z, delta_logp = model(x, zero)\n",
    "\n",
    "    # compute log q(z)\n",
    "    logpz = standard_normal_logprob(z).sum(1, keepdim=True)\n",
    "\n",
    "    logpx = logpz - delta_logp\n",
    "    loss = -torch.mean(logpx)\n",
    "    return loss"
   ]
  },
  {
   "cell_type": "code",
   "execution_count": 17,
   "metadata": {},
   "outputs": [
    {
     "name": "stderr",
     "output_type": "stream",
     "text": [
      "Iteration:   0%|          | 0/8000 [00:00<?, ?it/s]"
     ]
    },
    {
     "name": "stdout",
     "output_type": "stream",
     "text": [
      "Using device cuda\n"
     ]
    },
    {
     "name": "stderr",
     "output_type": "stream",
     "text": [
      "04:30:14 INFO - train_moons: Iteration: 0  | log_px = -2.031\n",
      "Iteration:   6%|▋         | 500/8000 [00:19<04:56, 25.33it/s] 04:30:29 INFO - train_moons: Iteration: 500  | log_px = -1.280\n",
      "Iteration:  12%|█▎        | 1000/8000 [00:34<04:02, 28.89it/s]04:30:43 INFO - train_moons: Iteration: 1000  | log_px = -0.850\n",
      "Iteration:  19%|█▉        | 1500/8000 [00:49<03:34, 30.29it/s]04:30:58 INFO - train_moons: Iteration: 1500  | log_px = -0.748\n",
      "Iteration:  25%|██▌       | 2000/8000 [01:04<03:12, 31.09it/s]04:31:13 INFO - train_moons: Iteration: 2000  | log_px = -0.582\n",
      "Iteration:  31%|███▏      | 2500/8000 [01:19<02:54, 31.54it/s]04:31:28 INFO - train_moons: Iteration: 2500  | log_px = -0.605\n",
      "Iteration:  38%|███▊      | 3000/8000 [01:34<02:36, 31.89it/s]04:31:43 INFO - train_moons: Iteration: 3000  | log_px = -0.573\n",
      "Iteration:  44%|████▍     | 3500/8000 [01:48<02:20, 32.13it/s]04:31:58 INFO - train_moons: Iteration: 3500  | log_px = -0.426\n",
      "Iteration:  50%|█████     | 4000/8000 [02:03<02:03, 32.29it/s]04:32:13 INFO - train_moons: Iteration: 4000  | log_px = -0.743\n",
      "Iteration:  56%|█████▋    | 4500/8000 [02:18<01:47, 32.44it/s]04:32:28 INFO - train_moons: Iteration: 4500  | log_px = -0.474\n",
      "Iteration:  62%|██████▎   | 5000/8000 [02:33<01:32, 32.55it/s]04:32:42 INFO - train_moons: Iteration: 5000  | log_px = -0.480\n",
      "Iteration:  69%|██████▉   | 5500/8000 [02:48<01:16, 32.65it/s]04:32:57 INFO - train_moons: Iteration: 5500  | log_px = -0.450\n",
      "Iteration:  75%|███████▌  | 6000/8000 [03:03<01:01, 32.73it/s]04:33:12 INFO - train_moons: Iteration: 6000  | log_px = -0.466\n",
      "Iteration:  81%|████████▏ | 6500/8000 [03:18<00:45, 32.80it/s]04:33:27 INFO - train_moons: Iteration: 6500  | log_px = -0.542\n",
      "Iteration:  88%|████████▊ | 7000/8000 [03:33<00:30, 32.83it/s]04:33:42 INFO - train_moons: Iteration: 7000  | log_px = -0.496\n",
      "Iteration:  94%|█████████▍| 7500/8000 [03:48<00:15, 32.88it/s]04:33:57 INFO - train_moons: Iteration: 7500  | log_px = -0.525\n",
      "Iteration: 100%|██████████| 8000/8000 [04:03<00:00, 32.92it/s]\n"
     ]
    },
    {
     "data": {
      "text/plain": [
       "Text(0.5,1,'$x = T(u)$')"
      ]
     },
     "execution_count": 17,
     "metadata": {},
     "output_type": "execute_result"
    },
    {
     "data": {
      "image/png": "[encoded data removed]",
      "text/plain": [
       "<Figure size 748.8x514.8 with 4 Axes>"
      ]
     },
     "metadata": {
      "needs_background": "light"
     },
     "output_type": "display_data"
    }
   ],
   "source": [
    "def train_moons(model, optimizer, device, logger, iterations=8000):\n",
    "    \n",
    "    print('Using device', device)\n",
    "    for idx in trange(iterations, desc='Iteration'):\n",
    "        noisy_moons = sklearn.datasets.make_moons(n_samples=256, noise=.05)[0].astype(np.float32)\n",
    "        x = torch.from_numpy(noisy_moons).to(device)\n",
    "        log_px = model.log_density(x).mean()\n",
    "\n",
    "        loss = -log_px\n",
    "        optimizer.zero_grad()\n",
    "        loss.backward()\n",
    "        optimizer.step()\n",
    "\n",
    "        if idx % 500 == 0:\n",
    "            logger.info('Iteration: {}  | log_px = {:.3f}'.format(idx, log_px))\n",
    "\n",
    "train_moons(myflow, optimizer, device, logger)\n",
    "\n",
    "noisy_moons = sklearn.datasets.make_moons(n_samples=1024, noise=.05)[0].astype(np.float32)\n",
    "z = myflow.backward(torch.from_numpy(noisy_moons).to(device))['x_flow_inv'][-1].cpu().detach().numpy()\n",
    "plt.subplot(221)\n",
    "plt.scatter(z[:, 0], z[:, 1])\n",
    "plt.title(r'$z = T^{-1}(x)$')\n",
    "\n",
    "z = np.random.multivariate_normal(np.zeros(2), np.eye(2), 1024)\n",
    "plt.subplot(222)\n",
    "plt.scatter(z[:, 0], z[:, 1])\n",
    "plt.title(r'$u \\sim p(u)$')\n",
    "\n",
    "plt.subplot(223)\n",
    "x = sklearn.datasets.make_moons(n_samples=1024, noise=.05)[0].astype(np.float32)\n",
    "plt.scatter(x[:, 0], x[:, 1], c='r')\n",
    "plt.title(r'$x \\sim p(x)$')\n",
    "\n",
    "plt.subplot(224)\n",
    "x = myflow.sample(1024)[0].cpu().detach().numpy()\n",
    "plt.scatter(x[:, 0], x[:, 1], c='r')\n",
    "plt.title(r'$x = T(u)$')"
   ]
  },
  {
   "cell_type": "code",
   "execution_count": null,
   "metadata": {},
   "outputs": [],
   "source": []
  }
 ],
 "metadata": {
  "kernelspec": {
   "display_name": "Python 3",
   "language": "python",
   "name": "python3"
  },
  "language_info": {
   "codemirror_mode": {
    "name": "ipython",
    "version": 3
   },
   "file_extension": ".py",
   "mimetype": "text/x-python",
   "name": "python",
   "nbconvert_exporter": "python",
   "pygments_lexer": "ipython3",
   "version": "3.6.9"
  }
 },
 "nbformat": 4,
 "nbformat_minor": 4
}